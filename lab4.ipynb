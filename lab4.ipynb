{
 "cells": [
  {
   "cell_type": "code",
   "execution_count": 2,
   "metadata": {},
   "outputs": [],
   "source": [
    "import sys\n",
    "sys.path.append('../')\n",
    "import pystan\n",
    "import arviz as az\n",
    "import numpy as np\n",
    "import scipy.stats as stats\n",
    "import pandas as pd\n",
    "import matplotlib.pyplot as plt\n",
    "import matplotlib as mpl"
   ]
  },
  {
   "cell_type": "code",
   "execution_count": 4,
   "metadata": {},
   "outputs": [
    {
     "name": "stdout",
     "output_type": "stream",
     "text": [
      "   Year  Fatal accidents  Passenger deaths  Death rate  \\\n",
      "0  1976               24               734        0.19   \n",
      "1  1977               25               516        0.12   \n",
      "2  1978               31               754        0.15   \n",
      "3  1979               31               877        0.16   \n",
      "4  1980               22               814        0.14   \n",
      "5  1981               21               362        0.06   \n",
      "6  1982               26               764        0.13   \n",
      "7  1983               20               809        0.13   \n",
      "8  1984               16               223        0.03   \n",
      "9  1985               22              1066        0.15   \n",
      "\n",
      "   Miles flown [100 mln miles]  \n",
      "0                       3863.0  \n",
      "1                       4300.0  \n",
      "2                       5027.0  \n",
      "3                       5481.0  \n",
      "4                       5814.0  \n",
      "5                       6033.0  \n",
      "6                       5877.0  \n",
      "7                       6223.0  \n",
      "8                       7433.0  \n",
      "9                       7107.0  \n"
     ]
    }
   ],
   "source": [
    "flights_data = pd.read_csv('flights_data.csv', header=0)\n",
    "print(flights_data)"
   ]
  },
  {
   "cell_type": "markdown",
   "metadata": {},
   "source": [
    "# Prior for fatal accidents rate"
   ]
  },
  {
   "cell_type": "markdown",
   "metadata": {},
   "source": [
    "We assume that having fatal accident every day would be very improbable. \n",
    "$$\\lambda+3\\sqrt{\\lambda}\\approx365$$ \n",
    "Fullfiling equation above ensure us that only 1% of values will be greater or equal to 365"
   ]
  },
  {
   "cell_type": "code",
   "execution_count": 5,
   "metadata": {},
   "outputs": [
    {
     "name": "stdout",
     "output_type": "stream",
     "text": [
      "[312.]\n"
     ]
    }
   ],
   "source": [
    "root_of_lam=np.polynomial.polynomial.polyroots([-365.,3.,1.])\n",
    "lam_ub=np.round(root_of_lam[root_of_lam>0]**2)\n",
    "print(lam_ub)"
   ]
  },
  {
   "cell_type": "code",
   "execution_count": 6,
   "metadata": {},
   "outputs": [
    {
     "name": "stderr",
     "output_type": "stream",
     "text": [
      "INFO:pystan:COMPILING THE C++ CODE FOR MODEL anon_model_3023ed04a1d59e5a19f8502e4acdeb08 NOW.\n"
     ]
    }
   ],
   "source": [
    "prior_tuning = \"\"\"\n",
    "functions {\n",
    "  // Difference between one-sided Gaussian tail probability and target probability\n",
    "  vector tail_delta(vector y, vector theta, real[] x_r, int[] x_i) {\n",
    "    vector[1] deltas;\n",
    "    deltas[1] = 2 * (normal_cdf(theta[1], 0, exp(y[1])) - 0.5) - 0.99;\n",
    "    return deltas;\n",
    "  }\n",
    "}\n",
    "\n",
    "data {\n",
    "  vector[1] y_guess; // Initial guess of Gaussian standard deviation\n",
    "  vector[1] theta;       // Target quantile\n",
    "}\n",
    "\n",
    "transformed data {\n",
    "\n",
    "  vector[1] y;\n",
    "  real x_r[0];\n",
    "  int x_i[0];\n",
    "\n",
    "  // Find Gaussian standard deviation that ensures 99% probabilty below 15\n",
    "  y = algebra_solver(tail_delta, y_guess, theta, x_r, x_i);\n",
    "\n",
    "  print(\"Standard deviation = \", exp(y[1]));\n",
    "}\n",
    "\n",
    "generated quantities {\n",
    "  real sigma = exp(y[1]);\n",
    "}\n",
    "\"\"\"\n",
    "tuning = pystan.StanModel(model_code = prior_tuning)"
   ]
  },
  {
   "cell_type": "code",
   "execution_count": 29,
   "metadata": {},
   "outputs": [
    {
     "name": "stdout",
     "output_type": "stream",
     "text": [
      "121.0\n"
     ]
    }
   ],
   "source": [
    "data=dict(y_guess=np.array([np.log(100)]),theta=np.array(lam_ub))\n",
    "tuned = tuning.sampling(data=data,\n",
    "                          seed=1052020,\n",
    "                          algorithm=\"Fixed_param\",\n",
    "                          iter=1, \n",
    "                          warmup=0,\n",
    "                          chains=1)\n",
    "sigma = np.round(tuned.extract()['sigma'][0])\n",
    "print(sigma)"
   ]
  },
  {
   "cell_type": "code",
   "execution_count": 11,
   "metadata": {},
   "outputs": [
    {
     "data": {
      "image/png": "[encoded data removed]",
      "text/plain": [
       "<Figure size 504x288 with 1 Axes>"
      ]
     },
     "metadata": {
      "needs_background": "light"
     },
     "output_type": "display_data"
    }
   ],
   "source": [
    "fig, ax2 = plt.subplots(1, 1,figsize=(7, 4))\n",
    "x2=np.linspace(0,3*sigma,1000)\n",
    "x4=np.linspace(0,lam_ub[0],1000)\n",
    "ax2.plot(x2,2*stats.norm.pdf(x2,scale=sigma),linewidth=2)\n",
    "ax2.fill_between(x4,2*stats.norm.pdf(x4,scale=sigma),0)\n",
    "ax2.set_yticks([])\n",
    "ax2.set_xticks([0,lam_ub[0]])\n",
    "ax2.set_title(r'$\\lambda$')\n",
    "plt.show()"
   ]
  },
  {
   "cell_type": "markdown",
   "metadata": {},
   "source": [
    "## Prior predictive distribution"
   ]
  },
  {
   "cell_type": "code",
   "execution_count": 18,
   "metadata": {},
   "outputs": [
    {
     "name": "stderr",
     "output_type": "stream",
     "text": [
      "INFO:pystan:COMPILING THE C++ CODE FOR MODEL anon_model_3ff5369e58b5c76910ab3af92af1a4e3 NOW.\n"
     ]
    }
   ],
   "source": [
    "airline_FA_hn_ppc = \"\"\"\n",
    "data {\n",
    "  int sigma; //poisson lambda argument\n",
    "}\n",
    "\n",
    "\n",
    "generated quantities {\n",
    "  real lambda=fabs(normal_rng(0,sigma));\n",
    "  int y_sim = poisson_rng(lambda);\n",
    "}\n",
    "\"\"\"\n",
    "model_prior = pystan.StanModel(model_code = airline_FA_hn_ppc)"
   ]
  },
  {
   "cell_type": "code",
   "execution_count": 13,
   "metadata": {},
   "outputs": [],
   "source": [
    "## generation of vector for plotting samples under histograms\n",
    "acc=[]\n",
    "dta_cnt=[]\n",
    "for k in flights_data['Fatal accidents']:  \n",
    "    dta_cnt.append(-(1.+acc.count(k)))\n",
    "    acc.append(k)\n",
    "dta_cnt=np.array(dta_cnt)"
   ]
  },
  {
   "cell_type": "code",
   "execution_count": 19,
   "metadata": {},
   "outputs": [],
   "source": [
    "R = 1000\n",
    "sim_uf = model_prior.sampling(data={'sigma': int(sigma)},\n",
    "                            algorithm=\"Fixed_param\",\n",
    "                            iter=R,\n",
    "                            warmup=0,\n",
    "                            chains=1, \n",
    "                            refresh=R,\n",
    "                            seed=29042020)"
   ]
  },
  {
   "cell_type": "code",
   "execution_count": 27,
   "metadata": {},
   "outputs": [
    {
     "data": {
      "image/png": "[encoded data removed]",
      "text/plain": [
       "<Figure size 504x576 with 2 Axes>"
      ]
     },
     "metadata": {
      "needs_background": "light"
     },
     "output_type": "display_data"
    }
   ],
   "source": [
    "params=sim_uf.extract()\n",
    "theta=params['lambda']\n",
    "y_sim=params['y_sim']\n",
    "\n",
    "fig, axes = plt.subplots(2, 1,figsize=(7, 8))\n",
    "ax1=axes[0]\n",
    "ax1.hist(theta,bins=20,edgecolor='black',density=True)\n",
    "x=np.linspace(0,350,2000)\n",
    "ax1.set_xticks([0,lam_ub[0]])\n",
    "ax1.set_yticks([])\n",
    "ax1.set_title(r'$\\lambda$')\n",
    "ax1.plot(x,2*stats.norm.pdf(x,0,sigma),color='black',linestyle='--')\n",
    "arr_y_loc = 2*stats.norm.pdf(150,0,sigma)\n",
    "ax1.annotate('HalfNormal(0,'+str(np.int(sigma))+')',xy=(150,arr_y_loc),xytext=(200,1.5*arr_y_loc),arrowprops={'arrowstyle':'->'})\n",
    "ax2=axes[1]\n",
    "ax2.hist(y_sim.flatten(),edgecolor='black',density=True,bins=20,zorder=1)\n",
    "ax2.scatter(acc,0.0002*dta_cnt,color='black',marker='.',zorder=2)\n",
    "ax2.set_xticks([0,365])\n",
    "ax2.set_yticks([])\n",
    "\n",
    "ax2.set_title('No. of accidents')\n",
    "plt.show()"
   ]
  },
  {
   "cell_type": "markdown",
   "metadata": {},
   "source": [
    "## Posterior inference and posterior predictive checks"
   ]
  },
  {
   "cell_type": "code",
   "execution_count": 30,
   "metadata": {},
   "outputs": [
    {
     "name": "stderr",
     "output_type": "stream",
     "text": [
      "INFO:pystan:COMPILING THE C++ CODE FOR MODEL anon_model_5f3e0a0951dcb32aef5f05797b39ae82 NOW.\n"
     ]
    }
   ],
   "source": [
    "airline_FA_hn_fit = \"\"\"\n",
    "data {\n",
    "  int M;//number of years analyzed\n",
    "  int y[M];//number of fatal accidents\n",
    "  int sigma;\n",
    "}\n",
    "parameters {\n",
    "  real<lower=0>lambda;\n",
    "}\n",
    "model {\n",
    "  lambda ~ normal(0,sigma);\n",
    "  for (k in 1:M) {\n",
    "    y[k] ~ poisson(lambda);\n",
    "  }\n",
    "}\n",
    "generated quantities {\n",
    "  int y_sim[M];\n",
    "  for (k in 1:M) {\n",
    "    y_sim[k] = poisson_rng(lambda);\n",
    "  }\n",
    "}\n",
    "\"\"\"\n",
    "airline_FA_fit = pystan.StanModel(model_code = airline_FA_hn_fit)"
   ]
  },
  {
   "cell_type": "code",
   "execution_count": 34,
   "metadata": {},
   "outputs": [],
   "source": [
    "data = dict(M = len(flights_data),\n",
    "            y = flights_data['Fatal accidents'],\n",
    "            sigma = int(sigma))\n",
    "fit = airline_FA_fit.sampling(data=data, seed=8052020)\n",
    "\n",
    "params=fit.extract()\n",
    "lam=params['lambda']\n",
    "y_sim=params['y_sim']"
   ]
  },
  {
   "cell_type": "code",
   "execution_count": 35,
   "metadata": {},
   "outputs": [],
   "source": [
    "mean_lam = np.mean(lam)\n",
    "cinf_lam = az.hpd(lam,0.89)\n",
    "\n",
    "hpd_width=cinf_lam[1]-cinf_lam[0]"
   ]
  },
  {
   "cell_type": "code",
   "execution_count": 36,
   "metadata": {},
   "outputs": [
    {
     "name": "stdout",
     "output_type": "stream",
     "text": [
      "Mean lambda : 23.92\n",
      "89% confidence interval: [ 21.51 26.62 ]\n"
     ]
    }
   ],
   "source": [
    "print('Mean lambda : {:4.2f}'.format(mean_lam))\n",
    "print('89% confidence interval: [',*['{:4.2f}'.format(k) for k in cinf_lam],']')"
   ]
  },
  {
   "cell_type": "code",
   "execution_count": 42,
   "metadata": {},
   "outputs": [
    {
     "data": {
      "image/png": "[encoded data removed]",
      "text/plain": [
       "<Figure size 504x576 with 3 Axes>"
      ]
     },
     "metadata": {
      "needs_background": "light"
     },
     "output_type": "display_data"
    }
   ],
   "source": [
    "fig, axes = plt.subplots(2, 1,figsize=(7, 8))\n",
    "ax1=axes[0]\n",
    "ax1.hist(lam,bins=20,density=True)\n",
    "x=np.linspace(0,350,1000)\n",
    "\n",
    "ax1.plot(x,2*stats.norm.pdf(x,0,sigma),color='black',linestyle='--')\n",
    "arr_y_loc = 2*stats.norm.pdf(50,0,sigma)\n",
    "ax1.annotate('Prior',xy=(50,arr_y_loc),xytext=(100,10*arr_y_loc),arrowprops={'arrowstyle':'->'})\n",
    "ax1.set_xticks([0,lam_ub[0]])\n",
    "\n",
    "ax1.set_yticks([])\n",
    "ax1.set_title(r'$\\lambda$')\n",
    "\n",
    "ax_sm=plt.axes([0.5,0.6,0.35,0.2])\n",
    "x_sm=np.linspace(cinf_lam[0]-hpd_width,cinf_lam[1]+hpd_width,200)\n",
    "ax_sm.hist(lam,bins=20,edgecolor='black',density=True)\n",
    "ax_sm.plot(x_sm,2*stats.norm.pdf(x_sm,0,sigma),color='black',linestyle='--')\n",
    "ax_sm.annotate(s='', xy=(cinf_lam[0]-.2,0.2), xytext=(cinf_lam[1]+.2,0.2), arrowprops=dict(arrowstyle='<->'))\n",
    "ax_sm.plot([cinf_lam[0],cinf_lam[0]],[0,0.3],color='black',linestyle='-',linewidth=0.5)\n",
    "ax_sm.plot([cinf_lam[1],cinf_lam[1]],[0,0.3],color='black',linestyle='-',linewidth=0.5)\n",
    "\n",
    "ax_sm.set_xticks(np.round([cinf_lam[0],cinf_lam[1]],2))\n",
    "ax_sm.set_yticks([])\n",
    "ax_sm.set_title(r'$\\lambda$ HPD')\n",
    "\n",
    "\n",
    "ax2=axes[1]\n",
    "ax2.hist(y_sim.flatten(),edgecolor='black',density=True,bins=20,zorder=1)\n",
    "ax2.scatter(acc,0.002*dta_cnt,color='black',marker='.',zorder=2)\n",
    "ax2.set_xticks([0,np.max(y_sim)])\n",
    "ax2.set_yticks([])\n",
    "\n",
    "ax2.set_title('No. of accidents')\n",
    "plt.show()"
   ]
  },
  {
   "cell_type": "markdown",
   "metadata": {},
   "source": [
    "## Using model for prediction"
   ]
  },
  {
   "cell_type": "markdown",
   "metadata": {},
   "source": [
    "In 1977, there were 25 fatal accidents, 516 passenger deaths, and a death rate of 0.12 per 100 million miles flown. Lets check how our can perform such prediction.\n",
    "\n",
    "In order to predict value in 1977 we just need to use the prior predictive distribution of y_sim."
   ]
  },
  {
   "cell_type": "code",
   "execution_count": 43,
   "metadata": {},
   "outputs": [
    {
     "name": "stdout",
     "output_type": "stream",
     "text": [
      "Median of predicted accidents = 24.0\n",
      "Confidence interval = [ 15.0 31.0 ]\n"
     ]
    }
   ],
   "source": [
    "median_y_sim = np.median(y_sim.flatten())\n",
    "cinf_y_sim = az.hpd(y_sim.flatten(),0.89)\n",
    "\n",
    "print('Median of predicted accidents =',median_y_sim)\n",
    "print('Confidence interval = [',*cinf_y_sim,']')"
   ]
  },
  {
   "cell_type": "markdown",
   "metadata": {},
   "source": [
    "# Modelling for accidents, considering miles"
   ]
  },
  {
   "cell_type": "markdown",
   "metadata": {},
   "source": [
    "We still assume that having fatal accident every day would be very improbable. We can still use the Poisson model, however we can decompose rate $\\lambda$ into intensity $\\theta$ and exposure $n$. \n",
    "With $n$ being a number miles flown (in 100 mil)"
   ]
  },
  {
   "cell_type": "markdown",
   "metadata": {},
   "source": [
    "$$\\theta\\cdot\\bar{n}+3\\sqrt{\\theta\\cdot\\bar{n}}\\approx365$$"
   ]
  },
  {
   "cell_type": "markdown",
   "metadata": {},
   "source": [
    "Fullfiling equation above ensure us that only 1% of values will be greater or equal to 365"
   ]
  },
  {
   "cell_type": "code",
   "execution_count": 45,
   "metadata": {},
   "outputs": [
    {
     "name": "stdout",
     "output_type": "stream",
     "text": [
      "theta upper bound 0.055\n"
     ]
    }
   ],
   "source": [
    "mean_miles=np.mean(flights_data['Miles flown [100 mln miles]'])\n",
    "root_of_theta=np.polynomial.polynomial.polyroots([-365/mean_miles,3./np.sqrt(mean_miles),1.])\n",
    "theta_ub=(root_of_theta[root_of_lam>0]**2)\n",
    "print('theta upper bound','{:4.3f}'.format(theta_ub[0]))"
   ]
  },
  {
   "cell_type": "code",
   "execution_count": 46,
   "metadata": {},
   "outputs": [
    {
     "name": "stdout",
     "output_type": "stream",
     "text": [
      "sigma = 0.021\n"
     ]
    }
   ],
   "source": [
    "data=dict(y_guess=np.array([np.log(0.01)]),theta=np.array(theta_ub))\n",
    "tuned2 = tuning.sampling(data=data,\n",
    "                          seed=1052020,\n",
    "                          algorithm=\"Fixed_param\",\n",
    "                          iter=1, \n",
    "                          warmup=0,\n",
    "                          chains=1)\n",
    "sigma = (tuned2.extract()['sigma'][0])\n",
    "print('sigma =','{:4.3f}'.format(sigma))"
   ]
  },
  {
   "cell_type": "code",
   "execution_count": 48,
   "metadata": {},
   "outputs": [
    {
     "data": {
      "image/png": "[encoded data removed]",
      "text/plain": [
       "<Figure size 504x288 with 1 Axes>"
      ]
     },
     "metadata": {
      "needs_background": "light"
     },
     "output_type": "display_data"
    }
   ],
   "source": [
    "fig, ax2 = plt.subplots(1, 1,figsize=(7, 4))\n",
    "x2=np.linspace(0,3*sigma,1000)\n",
    "x4=np.linspace(0,theta_ub[0],1000)\n",
    "ax2.plot(x2,2*stats.norm.pdf(x2,scale=sigma),linewidth=2)\n",
    "ax2.fill_between(x4,2*stats.norm.pdf(x4,scale=sigma),0)\n",
    "ax2.set_yticks([])\n",
    "ax2.set_xticks([0,theta_ub[0]])\n",
    "ax2.set_xticklabels([0,0.055])\n",
    "ax2.set_title(r'$\\theta$')\n",
    "plt.show()\n"
   ]
  },
  {
   "cell_type": "code",
   "execution_count": 49,
   "metadata": {},
   "outputs": [
    {
     "name": "stderr",
     "output_type": "stream",
     "text": [
      "INFO:pystan:COMPILING THE C++ CODE FOR MODEL anon_model_2ddf81aa2dde10da3e9c9e17a263724c NOW.\n"
     ]
    }
   ],
   "source": [
    "airline_FA_miles_hn_ppc = \"\"\"\n",
    "data {\n",
    "  int M;            // number of years analyzed\n",
    "  vector[M] miles;  // number of miles flown each year\n",
    "  real sigma;       // sigma \n",
    "}\n",
    "\n",
    "\n",
    "generated quantities {\n",
    "  real theta=fabs(normal_rng(0, sigma));\n",
    "  int y_sim[M];\n",
    "  for (k in 1:M) {\n",
    "    y_sim[k] = poisson_rng(theta*miles[k]);\n",
    "  }\n",
    "}\n",
    "\"\"\"\n",
    "model_prior = pystan.StanModel(model_code = airline_FA_miles_hn_ppc)"
   ]
  },
  {
   "cell_type": "code",
   "execution_count": 52,
   "metadata": {},
   "outputs": [],
   "source": [
    "R=1000\n",
    "data_prior=dict(M=len(flights_data),miles=flights_data['Miles flown [100 mln miles]'].to_numpy(), sigma=sigma)\n",
    "sim_uf=model_prior.sampling(data=data_prior,algorithm=\"Fixed_param\", iter=R, warmup=0, chains=1, refresh=R, seed=29042020)"
   ]
  },
  {
   "cell_type": "code",
   "execution_count": 55,
   "metadata": {},
   "outputs": [
    {
     "data": {
      "image/png": "[encoded data removed]",
      "text/plain": [
       "<Figure size 504x288 with 1 Axes>"
      ]
     },
     "metadata": {
      "needs_background": "light"
     },
     "output_type": "display_data"
    }
   ],
   "source": [
    "params=sim_uf.extract()\n",
    "theta=params['theta']\n",
    "\n",
    "fig, axes = plt.subplots(1, 1,figsize=(7, 4))\n",
    "ax1=axes\n",
    "ax1.hist(theta,bins=20,edgecolor='black',density=True)\n",
    "x=np.linspace(0,1.2*theta_ub[0],2000)\n",
    "ax1.set_xticks([0,theta_ub[0]])\n",
    "ax1.set_xticklabels([0,np.round(theta_ub[0],3)])\n",
    "ax1.set_yticks([])\n",
    "ax1.set_title(r'$\\theta$')\n",
    "ax1.plot(x,2*stats.norm.pdf(x,0,sigma),color='black',linestyle='--')\n",
    "arr_y_loc = 2*stats.norm.pdf(0.015,0,sigma)\n",
    "plt.show()\n"
   ]
  },
  {
   "cell_type": "code",
   "execution_count": 59,
   "metadata": {},
   "outputs": [
    {
     "data": {
      "image/png": "[encoded data removed]",
      "text/plain": [
       "<Figure size 504x576 with 10 Axes>"
      ]
     },
     "metadata": {
      "needs_background": "light"
     },
     "output_type": "display_data"
    }
   ],
   "source": [
    "y_sim=params['y_sim']\n",
    "fig, axes = plt.subplots(5, 2, figsize=(7, 8), sharey=True,squeeze=False)\n",
    "axes_flat=axes.flatten()\n",
    "for k in range(len(axes_flat)):\n",
    "    ax = axes_flat[k]\n",
    "    ax.hist(y_sim[:,k],bins=20,edgecolor='black',density=True)\n",
    "    ax.set_title(flights_data['Year'][k])\n",
    "    tv=flights_data['Fatal accidents'].iloc[k]\n",
    "    ax.plot([tv,tv],[0,0.02],linestyle='--',color='black')\n",
    "    ax.set_yticks([])\n",
    "    ax.set_xticks([0,tv,365])\n",
    "    ax.set_xticklabels(['',tv,365])\n",
    "    ax.set_ylim([0,0.012])\n",
    "\n",
    "fig.tight_layout()\n",
    "\n",
    "plt.show()"
   ]
  },
  {
   "cell_type": "markdown",
   "metadata": {},
   "source": [
    "## Posterior inference and posterior predictive checks"
   ]
  },
  {
   "cell_type": "code",
   "execution_count": 61,
   "metadata": {},
   "outputs": [
    {
     "name": "stderr",
     "output_type": "stream",
     "text": [
      "INFO:pystan:COMPILING THE C++ CODE FOR MODEL anon_model_346e8fffb367262d03f16480469a417e NOW.\n"
     ]
    }
   ],
   "source": [
    "airline_FA_miles_hn_fit = \"\"\"\n",
    "data {\n",
    "  int M;            // number of years analyzed\n",
    "  vector[M] miles;  // number of miles flown each year\n",
    "  int y[M];         //number of fatal accidents\n",
    "  real sigma;       // sigma\n",
    "}\n",
    "parameters {\n",
    "  real<lower=0>theta;\n",
    "}\n",
    "model {\n",
    "  theta ~ normal(0, sigma);\n",
    "  for (k in 1:M) {\n",
    "    y[k] ~ poisson(miles[k]*theta);\n",
    "  }\n",
    "}\n",
    "generated quantities {\n",
    "  int y_sim[M];\n",
    "  for (k in 1:M) {\n",
    "    y_sim[k] = poisson_rng(miles[k]*theta);\n",
    "  }\n",
    "}\n",
    "\"\"\"\n",
    "airline_FA_miles_fit = pystan.StanModel(model_code = airline_FA_miles_hn_fit)"
   ]
  },
  {
   "cell_type": "code",
   "execution_count": 66,
   "metadata": {},
   "outputs": [],
   "source": [
    "data = dict(M = len(flights_data),\n",
    "            miles = flights_data['Miles flown [100 mln miles]'],\n",
    "            y = flights_data['Fatal accidents'],\n",
    "            sigma = sigma)\n",
    "fit = airline_FA_miles_fit.sampling(data=data, seed=8052020)\n",
    "\n",
    "params_miles=fit.extract()\n",
    "theta=params_miles['theta']\n",
    "y_sim=params_miles['y_sim']"
   ]
  },
  {
   "cell_type": "code",
   "execution_count": 67,
   "metadata": {},
   "outputs": [],
   "source": [
    "mean_theta = np.mean(theta)\n",
    "cinf_theta = az.hpd(theta,0.89)\n",
    "hpd_width=cinf_theta[1]-cinf_theta[0]"
   ]
  },
  {
   "cell_type": "code",
   "execution_count": 68,
   "metadata": {},
   "outputs": [
    {
     "name": "stdout",
     "output_type": "stream",
     "text": [
      "Mean theta : 0.0042\n",
      "89% confidence interval: [ 0.0038 0.0046 ]\n"
     ]
    }
   ],
   "source": [
    "print('Mean theta : {:5.4f}'.format(mean_theta))\n",
    "print('89% confidence interval: [',*['{:5.4f}'.format(k) for k in cinf_theta],']')"
   ]
  },
  {
   "cell_type": "code",
   "execution_count": 69,
   "metadata": {},
   "outputs": [
    {
     "data": {
      "image/png": "[encoded data removed]",
      "text/plain": [
       "<Figure size 504x288 with 2 Axes>"
      ]
     },
     "metadata": {
      "needs_background": "light"
     },
     "output_type": "display_data"
    }
   ],
   "source": [
    "fig, axes = plt.subplots(1, 1,figsize=(7, 4))\n",
    "ax1=axes\n",
    "ax1.hist(theta,bins=20,density=True)\n",
    "x=np.linspace(0,1.2*theta_ub[0],2000)\n",
    "ax1.set_xticks([0,theta_ub[0]])\n",
    "ax1.set_xticklabels([0,np.round(theta_ub[0],3)])\n",
    "ax1.set_yticks([])\n",
    "ax1.set_title(r'$\\theta$')\n",
    "ax1.plot(x,2*stats.norm.pdf(x,0,sigma),color='black',linestyle='--')\n",
    "arr_y_loc = 2*stats.norm.pdf(0.01,0,sigma)\n",
    "ax1.annotate('Prior',xy=(0.01,arr_y_loc),xytext=(0.015,10*arr_y_loc),arrowprops={'arrowstyle':'->'})\n",
    "\n",
    "ax_sm=plt.axes([0.5,0.3,0.35,0.4])\n",
    "x_sm=np.linspace(cinf_theta[0]-hpd_width,cinf_theta[1]+hpd_width,200)\n",
    "ax_sm.hist(theta,bins=20,edgecolor='black',density=True)\n",
    "ax_sm.plot(x_sm,2*stats.norm.pdf(x_sm,0,sigma),color='black',linestyle='--')\n",
    "ax_sm.annotate(s='', xy=(0.99*cinf_theta[0],1000), xytext=(1.01*cinf_theta[1],1000), arrowprops=dict(arrowstyle='<->'))\n",
    "ax_sm.plot([cinf_theta[0],cinf_theta[0]],[0,1600],color='black',linestyle='-',linewidth=0.5)\n",
    "ax_sm.plot([cinf_theta[1],cinf_theta[1]],[0,1600],color='black',linestyle='-',linewidth=0.5)\n",
    "\n",
    "ax_sm.set_xticks(([cinf_theta[0],cinf_theta[1]]))\n",
    "ax_sm.set_xticklabels(np.round([cinf_theta[0],cinf_theta[1]],4))\n",
    "\n",
    "ax_sm.set_yticks([])\n",
    "ax_sm.set_title(r'$\\theta$ HPD')\n",
    "\n",
    "plt.show()\n"
   ]
  },
  {
   "cell_type": "code",
   "execution_count": 74,
   "metadata": {},
   "outputs": [
    {
     "data": {
      "image/png": "[encoded data removed]",
      "text/plain": [
       "<Figure size 504x576 with 10 Axes>"
      ]
     },
     "metadata": {
      "needs_background": "light"
     },
     "output_type": "display_data"
    }
   ],
   "source": [
    "y_sim=params_miles['y_sim']\n",
    "fig, axes = plt.subplots(5, 2, figsize=(7, 8), sharey=True,squeeze=False)\n",
    "axes_flat=axes.flatten()\n",
    "for k in range(len(axes_flat)):\n",
    "    ax = axes_flat[k]\n",
    "    ax.hist(y_sim[:,k],bins=20,edgecolor='black',density=True)\n",
    "    ax.set_title(flights_data['Year'][k])\n",
    "    tv=flights_data['Fatal accidents'].iloc[k]\n",
    "    ax.plot([tv,tv],[0,0.15],linestyle='--',color='black')\n",
    "    #ax.set_yticks([])\n",
    "    ax.set_xticks([0,tv,50])\n",
    "    ax.set_xticklabels([0,tv,50])\n",
    "    ax.set_ylim([0,0.15])\n",
    "\n",
    "fig.tight_layout()\n",
    "\n",
    "plt.show()"
   ]
  },
  {
   "cell_type": "markdown",
   "metadata": {},
   "source": [
    "## Using model for prediction"
   ]
  },
  {
   "cell_type": "markdown",
   "metadata": {},
   "source": [
    "In this situation prediction might be a slight more complicated, as it requires from us modifying the generated quantities block As stated before in 1977, there were 25 fatal accidents, 516 passenger deaths, and a death rate of 0.12 per 100 million miles flown."
   ]
  },
  {
   "cell_type": "code",
   "execution_count": 76,
   "metadata": {},
   "outputs": [
    {
     "name": "stdout",
     "output_type": "stream",
     "text": [
      "4300.0\n"
     ]
    }
   ],
   "source": [
    "miles1977=516/0.12\n",
    "print(np.round(miles1977))"
   ]
  },
  {
   "cell_type": "code",
   "execution_count": 77,
   "metadata": {},
   "outputs": [
    {
     "name": "stderr",
     "output_type": "stream",
     "text": [
      "INFO:pystan:COMPILING THE C++ CODE FOR MODEL anon_model_ad1e38fdf4e85258a5b989e3e03c01c4 NOW.\n"
     ]
    }
   ],
   "source": [
    "airlines_FA_miles_pred = \"\"\"\n",
    "data {\n",
    "  int M;            // number of years analyzed\n",
    "  vector[M] miles;  // number of miles flown each year\n",
    "  int y[M];         //number of fatal accidents\n",
    "  real sigma;       // sigma\n",
    "}\n",
    "parameters {\n",
    "  real<lower=0>theta;\n",
    "}\n",
    "model {\n",
    "  theta ~ normal(0,sigma);\n",
    "  for (k in 1:M) {\n",
    "    y[k] ~ poisson(miles[k]*theta);\n",
    "  }\n",
    "}\n",
    "generated quantities {\n",
    "  int y_1977 = poisson_rng(4300*theta);\n",
    "}\n",
    "\"\"\"\n",
    "model1977 = pystan.StanModel(model_code = airlines_FA_miles_pred)"
   ]
  },
  {
   "cell_type": "code",
   "execution_count": 79,
   "metadata": {},
   "outputs": [],
   "source": [
    "data = dict(M = len(flights_data),\n",
    "            miles = flights_data['Miles flown [100 mln miles]'],\n",
    "            y = flights_data['Fatal accidents'],\n",
    "            sigma = sigma)\n",
    "fit1977 = model1977.sampling(data=data, seed=8052020)\n",
    "\n",
    "y_1977=fit1977.extract()['y_1977']"
   ]
  },
  {
   "cell_type": "code",
   "execution_count": 80,
   "metadata": {},
   "outputs": [
    {
     "name": "stdout",
     "output_type": "stream",
     "text": [
      "Median of predicted accidents = 18.0\n",
      "Confidence interval = [ 10.0 24.0 ]\n"
     ]
    }
   ],
   "source": [
    "median_y_1977 = np.median(y_1977)\n",
    "cinf_y_1977 = az.hpd(y_1977,0.89)\n",
    "\n",
    "print('Median of predicted accidents =',median_y_1977)\n",
    "print('Confidence interval = [',*cinf_y_1977,']')"
   ]
  },
  {
   "cell_type": "code",
   "execution_count": 83,
   "metadata": {},
   "outputs": [
    {
     "data": {
      "image/png": "[encoded data removed]",
      "text/plain": [
       "<Figure size 504x288 with 1 Axes>"
      ]
     },
     "metadata": {
      "needs_background": "light"
     },
     "output_type": "display_data"
    }
   ],
   "source": [
    "y_sim=params['y_sim']\n",
    "fig, ax = plt.subplots(1, 1, figsize=(7, 4))\n",
    "ax.hist(y_1977,bins=20,edgecolor='black',density=True)\n",
    "ax.set_title('1977')\n",
    "tv = 25\n",
    "ax.plot([tv,tv],[0,0.07],linestyle='--',color='black')\n",
    "ax.set_yticks([])\n",
    "ax.set_xticks([0,tv,50])\n",
    "ax.set_xticklabels(['0',tv,50])\n",
    "ax.set_ylim([0,0.07])\n",
    "\n",
    "plt.show()"
   ]
  },
  {
   "cell_type": "code",
   "execution_count": null,
   "metadata": {},
   "outputs": [],
   "source": []
  }
 ],
 "metadata": {
  "kernelspec": {
   "display_name": "Python 3",
   "language": "python",
   "name": "python3"
  },
  "language_info": {
   "codemirror_mode": {
    "name": "ipython",
    "version": 3
   },
   "file_extension": ".py",
   "mimetype": "text/x-python",
   "name": "python",
   "nbconvert_exporter": "python",
   "pygments_lexer": "ipython3",
   "version": "3.7.4"
  }
 },
 "nbformat": 4,
 "nbformat_minor": 2
}
